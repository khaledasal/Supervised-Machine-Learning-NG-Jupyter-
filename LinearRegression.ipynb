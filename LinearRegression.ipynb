{
  "metadata": {
    "language_info": {
      "codemirror_mode": {
        "name": "python",
        "version": 3
      },
      "file_extension": ".py",
      "mimetype": "text/x-python",
      "name": "python",
      "nbconvert_exporter": "python",
      "pygments_lexer": "ipython3",
      "version": "3.8"
    },
    "kernelspec": {
      "name": "python",
      "display_name": "Python (Pyodide)",
      "language": "python"
    }
  },
  "nbformat_minor": 4,
  "nbformat": 4,
  "cells": [
    {
      "cell_type": "code",
      "source": "import numpy as np\nimport matplotlib.pyplot as plt\nfrom utils import *\nimport copy\nimport math\n%matplotlib inline",
      "metadata": {
        "trusted": true
      },
      "execution_count": 1,
      "outputs": [
        {
          "ename": "<class 'ModuleNotFoundError'>",
          "evalue": "No module named 'utils'",
          "traceback": [
            "\u001b[0;31m---------------------------------------------------------------------------\u001b[0m",
            "\u001b[0;31mModuleNotFoundError\u001b[0m                       Traceback (most recent call last)",
            "Cell \u001b[0;32mIn[1], line 3\u001b[0m\n\u001b[1;32m      1\u001b[0m \u001b[38;5;28;01mimport\u001b[39;00m \u001b[38;5;21;01mnumpy\u001b[39;00m \u001b[38;5;28;01mas\u001b[39;00m \u001b[38;5;21;01mnp\u001b[39;00m\n\u001b[1;32m      2\u001b[0m \u001b[38;5;28;01mimport\u001b[39;00m \u001b[38;5;21;01mmatplotlib\u001b[39;00m\u001b[38;5;21;01m.\u001b[39;00m\u001b[38;5;21;01mpyplot\u001b[39;00m \u001b[38;5;28;01mas\u001b[39;00m \u001b[38;5;21;01mplt\u001b[39;00m\n\u001b[0;32m----> 3\u001b[0m \u001b[38;5;28;01mfrom\u001b[39;00m \u001b[38;5;21;01mutils\u001b[39;00m \u001b[38;5;28;01mimport\u001b[39;00m \u001b[38;5;241m*\u001b[39m\n\u001b[1;32m      4\u001b[0m \u001b[38;5;28;01mimport\u001b[39;00m \u001b[38;5;21;01mcopy\u001b[39;00m\n\u001b[1;32m      5\u001b[0m \u001b[38;5;28;01mimport\u001b[39;00m \u001b[38;5;21;01mmath\u001b[39;00m\n",
            "\u001b[0;31mModuleNotFoundError\u001b[0m: No module named 'utils'"
          ],
          "output_type": "error"
        }
      ]
    },
    {
      "cell_type": "code",
      "source": "# load the dataset\nx_train, y_train = load_data()",
      "metadata": {
        "trusted": true
      },
      "execution_count": 3,
      "outputs": [
        {
          "ename": "<class 'NameError'>",
          "evalue": "name 'load_data' is not defined",
          "traceback": [
            "\u001b[0;31m---------------------------------------------------------------------------\u001b[0m",
            "\u001b[0;31mNameError\u001b[0m                                 Traceback (most recent call last)",
            "Cell \u001b[0;32mIn[3], line 2\u001b[0m\n\u001b[1;32m      1\u001b[0m \u001b[38;5;66;03m# load the dataset\u001b[39;00m\n\u001b[0;32m----> 2\u001b[0m x_train, y_train \u001b[38;5;241m=\u001b[39m \u001b[43mload_data\u001b[49m()\n",
            "\u001b[0;31mNameError\u001b[0m: name 'load_data' is not defined"
          ],
          "output_type": "error"
        }
      ]
    },
    {
      "cell_type": "code",
      "source": "# print x_train\nprint(\"Type of x_train:\",type(x_train))\nprint(\"First five elements of x_train are:\\n\", x_train[:5]) ",
      "metadata": {
        "trusted": true
      },
      "execution_count": 4,
      "outputs": [
        {
          "ename": "<class 'NameError'>",
          "evalue": "name 'x_train' is not defined",
          "traceback": [
            "\u001b[0;31m---------------------------------------------------------------------------\u001b[0m",
            "\u001b[0;31mNameError\u001b[0m                                 Traceback (most recent call last)",
            "Cell \u001b[0;32mIn[4], line 2\u001b[0m\n\u001b[1;32m      1\u001b[0m \u001b[38;5;66;03m# print x_train\u001b[39;00m\n\u001b[0;32m----> 2\u001b[0m \u001b[38;5;28mprint\u001b[39m(\u001b[38;5;124m\"\u001b[39m\u001b[38;5;124mType of x_train:\u001b[39m\u001b[38;5;124m\"\u001b[39m,\u001b[38;5;28mtype\u001b[39m(\u001b[43mx_train\u001b[49m))\n\u001b[1;32m      3\u001b[0m \u001b[38;5;28mprint\u001b[39m(\u001b[38;5;124m\"\u001b[39m\u001b[38;5;124mFirst five elements of x_train are:\u001b[39m\u001b[38;5;130;01m\\n\u001b[39;00m\u001b[38;5;124m\"\u001b[39m, x_train[:\u001b[38;5;241m5\u001b[39m]) \n",
            "\u001b[0;31mNameError\u001b[0m: name 'x_train' is not defined"
          ],
          "output_type": "error"
        }
      ]
    },
    {
      "cell_type": "code",
      "source": "# print y_train\nprint(\"Type of y_train:\",type(y_train))\nprint(\"First five elements of y_train are:\\n\", y_train[:5])  ",
      "metadata": {
        "trusted": true
      },
      "execution_count": 5,
      "outputs": [
        {
          "ename": "<class 'NameError'>",
          "evalue": "name 'y_train' is not defined",
          "traceback": [
            "\u001b[0;31m---------------------------------------------------------------------------\u001b[0m",
            "\u001b[0;31mNameError\u001b[0m                                 Traceback (most recent call last)",
            "Cell \u001b[0;32mIn[5], line 2\u001b[0m\n\u001b[1;32m      1\u001b[0m \u001b[38;5;66;03m# print y_train\u001b[39;00m\n\u001b[0;32m----> 2\u001b[0m \u001b[38;5;28mprint\u001b[39m(\u001b[38;5;124m\"\u001b[39m\u001b[38;5;124mType of y_train:\u001b[39m\u001b[38;5;124m\"\u001b[39m,\u001b[38;5;28mtype\u001b[39m(\u001b[43my_train\u001b[49m))\n\u001b[1;32m      3\u001b[0m \u001b[38;5;28mprint\u001b[39m(\u001b[38;5;124m\"\u001b[39m\u001b[38;5;124mFirst five elements of y_train are:\u001b[39m\u001b[38;5;130;01m\\n\u001b[39;00m\u001b[38;5;124m\"\u001b[39m, y_train[:\u001b[38;5;241m5\u001b[39m])  \n",
            "\u001b[0;31mNameError\u001b[0m: name 'y_train' is not defined"
          ],
          "output_type": "error"
        }
      ]
    },
    {
      "cell_type": "code",
      "source": "print ('The shape of x_train is:', x_train.shape)\nprint ('The shape of y_train is: ', y_train.shape)\nprint ('Number of training examples (m):', len(x_train))",
      "metadata": {
        "trusted": true
      },
      "execution_count": 6,
      "outputs": [
        {
          "ename": "<class 'NameError'>",
          "evalue": "name 'x_train' is not defined",
          "traceback": [
            "\u001b[0;31m---------------------------------------------------------------------------\u001b[0m",
            "\u001b[0;31mNameError\u001b[0m                                 Traceback (most recent call last)",
            "Cell \u001b[0;32mIn[6], line 1\u001b[0m\n\u001b[0;32m----> 1\u001b[0m \u001b[38;5;28mprint\u001b[39m (\u001b[38;5;124m'\u001b[39m\u001b[38;5;124mThe shape of x_train is:\u001b[39m\u001b[38;5;124m'\u001b[39m, \u001b[43mx_train\u001b[49m\u001b[38;5;241m.\u001b[39mshape)\n\u001b[1;32m      2\u001b[0m \u001b[38;5;28mprint\u001b[39m (\u001b[38;5;124m'\u001b[39m\u001b[38;5;124mThe shape of y_train is: \u001b[39m\u001b[38;5;124m'\u001b[39m, y_train\u001b[38;5;241m.\u001b[39mshape)\n\u001b[1;32m      3\u001b[0m \u001b[38;5;28mprint\u001b[39m (\u001b[38;5;124m'\u001b[39m\u001b[38;5;124mNumber of training examples (m):\u001b[39m\u001b[38;5;124m'\u001b[39m, \u001b[38;5;28mlen\u001b[39m(x_train))\n",
            "\u001b[0;31mNameError\u001b[0m: name 'x_train' is not defined"
          ],
          "output_type": "error"
        }
      ]
    },
    {
      "cell_type": "code",
      "source": "# Create a scatter plot of the data. To change the markers to red \"x\",\n# we used the 'marker' and 'c' parameters\nplt.scatter(x_train, y_train, marker='x', c='r') \n\n# Set the title\nplt.title(\"Profits vs. Population per city\")\n# Set the y-axis label\nplt.ylabel('Profit in $10,000')\n# Set the x-axis label\nplt.xlabel('Population of City in 10,000s')\nplt.show()",
      "metadata": {
        "trusted": true
      },
      "execution_count": 7,
      "outputs": [
        {
          "ename": "<class 'NameError'>",
          "evalue": "name 'x_train' is not defined",
          "traceback": [
            "\u001b[0;31m---------------------------------------------------------------------------\u001b[0m",
            "\u001b[0;31mNameError\u001b[0m                                 Traceback (most recent call last)",
            "Cell \u001b[0;32mIn[7], line 3\u001b[0m\n\u001b[1;32m      1\u001b[0m \u001b[38;5;66;03m# Create a scatter plot of the data. To change the markers to red \"x\",\u001b[39;00m\n\u001b[1;32m      2\u001b[0m \u001b[38;5;66;03m# we used the 'marker' and 'c' parameters\u001b[39;00m\n\u001b[0;32m----> 3\u001b[0m plt\u001b[38;5;241m.\u001b[39mscatter(\u001b[43mx_train\u001b[49m, y_train, marker\u001b[38;5;241m=\u001b[39m\u001b[38;5;124m'\u001b[39m\u001b[38;5;124mx\u001b[39m\u001b[38;5;124m'\u001b[39m, c\u001b[38;5;241m=\u001b[39m\u001b[38;5;124m'\u001b[39m\u001b[38;5;124mr\u001b[39m\u001b[38;5;124m'\u001b[39m) \n\u001b[1;32m      5\u001b[0m \u001b[38;5;66;03m# Set the title\u001b[39;00m\n\u001b[1;32m      6\u001b[0m plt\u001b[38;5;241m.\u001b[39mtitle(\u001b[38;5;124m\"\u001b[39m\u001b[38;5;124mProfits vs. Population per city\u001b[39m\u001b[38;5;124m\"\u001b[39m)\n",
            "\u001b[0;31mNameError\u001b[0m: name 'x_train' is not defined"
          ],
          "output_type": "error"
        }
      ]
    },
    {
      "cell_type": "code",
      "source": "# UNQ_C1\n# GRADED FUNCTION: compute_cost\n\ndef compute_cost(x, y, w, b): \n    \"\"\"\n    Computes the cost function for linear regression.\n    \n    Args:\n        x (ndarray): Shape (m,) Input to the model (Population of cities) \n        y (ndarray): Shape (m,) Label (Actual profits for the cities)\n        w, b (scalar): Parameters of the model\n    \n    Returns\n        total_cost (float): The cost of using w,b as the parameters for linear regression\n               to fit the data points in x and y\n    \"\"\"\n    # number of training examples\n    m = x.shape[0] \n    new_m = 2*m\n    \n    # You need to return this variable correctly\n    total_cost = 0\n    \n    ### START CODE HERE ###\n    \n    for i in range(m):\n        \n        total_cost = total_cost +  ( (w*x[i] + b) - y[i] )**2\n        \n    total_cost = total_cost/new_m\n    \n    ### END CODE HERE ### \n\n    return total_cost",
      "metadata": {
        "trusted": true
      },
      "execution_count": 8,
      "outputs": []
    },
    {
      "cell_type": "code",
      "source": "# Compute cost with some initial values for paramaters w, b\ninitial_w = 2\ninitial_b = 1\n\ncost = compute_cost(x_train, y_train, initial_w, initial_b)\nprint(type(cost))\nprint(f'Cost at initial w: {cost:.3f}')\n\n# Public tests\nfrom public_tests import *\ncompute_cost_test(compute_cost)",
      "metadata": {
        "trusted": true
      },
      "execution_count": 9,
      "outputs": [
        {
          "ename": "<class 'NameError'>",
          "evalue": "name 'x_train' is not defined",
          "traceback": [
            "\u001b[0;31m---------------------------------------------------------------------------\u001b[0m",
            "\u001b[0;31mNameError\u001b[0m                                 Traceback (most recent call last)",
            "Cell \u001b[0;32mIn[9], line 5\u001b[0m\n\u001b[1;32m      2\u001b[0m initial_w \u001b[38;5;241m=\u001b[39m \u001b[38;5;241m2\u001b[39m\n\u001b[1;32m      3\u001b[0m initial_b \u001b[38;5;241m=\u001b[39m \u001b[38;5;241m1\u001b[39m\n\u001b[0;32m----> 5\u001b[0m cost \u001b[38;5;241m=\u001b[39m compute_cost(\u001b[43mx_train\u001b[49m, y_train, initial_w, initial_b)\n\u001b[1;32m      6\u001b[0m \u001b[38;5;28mprint\u001b[39m(\u001b[38;5;28mtype\u001b[39m(cost))\n\u001b[1;32m      7\u001b[0m \u001b[38;5;28mprint\u001b[39m(\u001b[38;5;124mf\u001b[39m\u001b[38;5;124m'\u001b[39m\u001b[38;5;124mCost at initial w: \u001b[39m\u001b[38;5;132;01m{\u001b[39;00mcost\u001b[38;5;132;01m:\u001b[39;00m\u001b[38;5;124m.3f\u001b[39m\u001b[38;5;132;01m}\u001b[39;00m\u001b[38;5;124m'\u001b[39m)\n",
            "\u001b[0;31mNameError\u001b[0m: name 'x_train' is not defined"
          ],
          "output_type": "error"
        }
      ]
    },
    {
      "cell_type": "code",
      "source": "# UNQ_C2\n# GRADED FUNCTION: compute_gradient\ndef compute_gradient(x, y, w, b): \n    \"\"\"\n    Computes the gradient for linear regression \n    Args:\n      x (ndarray): Shape (m,) Input to the model (Population of cities) \n      y (ndarray): Shape (m,) Label (Actual profits for the cities)\n      w, b (scalar): Parameters of the model  \n    Returns\n      dj_dw (scalar): The gradient of the cost w.r.t. the parameters w\n      dj_db (scalar): The gradient of the cost w.r.t. the parameter b     \n     \"\"\"\n    \n    # Number of training examples\n    m = x.shape[0]\n    \n    # You need to return the following variables correctly\n    dj_dw = 0\n    dj_db = 0\n    \n    Cost = 0\n    \n    ### START CODE HERE ###\n    \n    for i in range(m):\n        f_wb = w * x[i] + b \n        dj_db_i = f_wb - y[i]\n        dj_dw_i = (f_wb - y[i])*x[i]\n        dj_db += dj_db_i\n        dj_dw += dj_dw_i\n\n        \n    dj_db = dj_db/m\n    dj_dw = dj_dw/m \n    \n    ### END CODE HERE ### \n        \n    return dj_dw, dj_db",
      "metadata": {
        "trusted": true
      },
      "execution_count": 10,
      "outputs": []
    },
    {
      "cell_type": "code",
      "source": "# Compute and display gradient with w initialized to zeroes\ninitial_w = 0\ninitial_b = 0\n\ntmp_dj_dw, tmp_dj_db = compute_gradient(x_train, y_train, initial_w, initial_b)\nprint('Gradient at initial w, b (zeros):', tmp_dj_dw, tmp_dj_db)\n\ncompute_gradient_test(compute_gradient)",
      "metadata": {
        "trusted": true
      },
      "execution_count": 11,
      "outputs": [
        {
          "ename": "<class 'NameError'>",
          "evalue": "name 'x_train' is not defined",
          "traceback": [
            "\u001b[0;31m---------------------------------------------------------------------------\u001b[0m",
            "\u001b[0;31mNameError\u001b[0m                                 Traceback (most recent call last)",
            "Cell \u001b[0;32mIn[11], line 5\u001b[0m\n\u001b[1;32m      2\u001b[0m initial_w \u001b[38;5;241m=\u001b[39m \u001b[38;5;241m0\u001b[39m\n\u001b[1;32m      3\u001b[0m initial_b \u001b[38;5;241m=\u001b[39m \u001b[38;5;241m0\u001b[39m\n\u001b[0;32m----> 5\u001b[0m tmp_dj_dw, tmp_dj_db \u001b[38;5;241m=\u001b[39m compute_gradient(\u001b[43mx_train\u001b[49m, y_train, initial_w, initial_b)\n\u001b[1;32m      6\u001b[0m \u001b[38;5;28mprint\u001b[39m(\u001b[38;5;124m'\u001b[39m\u001b[38;5;124mGradient at initial w, b (zeros):\u001b[39m\u001b[38;5;124m'\u001b[39m, tmp_dj_dw, tmp_dj_db)\n\u001b[1;32m      8\u001b[0m compute_gradient_test(compute_gradient)\n",
            "\u001b[0;31mNameError\u001b[0m: name 'x_train' is not defined"
          ],
          "output_type": "error"
        }
      ]
    },
    {
      "cell_type": "code",
      "source": "# Compute and display cost and gradient with non-zero w\ntest_w = 0.2\ntest_b = 0.2\ntmp_dj_dw, tmp_dj_db = compute_gradient(x_train, y_train, test_w, test_b)\n\nprint('Gradient at test w, b:', tmp_dj_dw, tmp_dj_db)",
      "metadata": {
        "trusted": true
      },
      "execution_count": 12,
      "outputs": [
        {
          "ename": "<class 'NameError'>",
          "evalue": "name 'x_train' is not defined",
          "traceback": [
            "\u001b[0;31m---------------------------------------------------------------------------\u001b[0m",
            "\u001b[0;31mNameError\u001b[0m                                 Traceback (most recent call last)",
            "Cell \u001b[0;32mIn[12], line 4\u001b[0m\n\u001b[1;32m      2\u001b[0m test_w \u001b[38;5;241m=\u001b[39m \u001b[38;5;241m0.2\u001b[39m\n\u001b[1;32m      3\u001b[0m test_b \u001b[38;5;241m=\u001b[39m \u001b[38;5;241m0.2\u001b[39m\n\u001b[0;32m----> 4\u001b[0m tmp_dj_dw, tmp_dj_db \u001b[38;5;241m=\u001b[39m compute_gradient(\u001b[43mx_train\u001b[49m, y_train, test_w, test_b)\n\u001b[1;32m      6\u001b[0m \u001b[38;5;28mprint\u001b[39m(\u001b[38;5;124m'\u001b[39m\u001b[38;5;124mGradient at test w, b:\u001b[39m\u001b[38;5;124m'\u001b[39m, tmp_dj_dw, tmp_dj_db)\n",
            "\u001b[0;31mNameError\u001b[0m: name 'x_train' is not defined"
          ],
          "output_type": "error"
        }
      ]
    },
    {
      "cell_type": "code",
      "source": "def gradient_descent(x, y, w_in, b_in, cost_function, gradient_function, alpha, num_iters): \n    \"\"\"\n    Performs batch gradient descent to learn theta. Updates theta by taking \n    num_iters gradient steps with learning rate alpha\n    \n    Args:\n      x :    (ndarray): Shape (m,)\n      y :    (ndarray): Shape (m,)\n      w_in, b_in : (scalar) Initial values of parameters of the model\n      cost_function: function to compute cost\n      gradient_function: function to compute the gradient\n      alpha : (float) Learning rate\n      num_iters : (int) number of iterations to run gradient descent\n    Returns\n      w : (ndarray): Shape (1,) Updated values of parameters of the model after\n          running gradient descent\n      b : (scalar)                Updated value of parameter of the model after\n          running gradient descent\n    \"\"\"\n    \n    # number of training examples\n    m = len(x)\n    \n    # An array to store cost J and w's at each iteration — primarily for graphing later\n    J_history = []\n    w_history = []\n    w = copy.deepcopy(w_in)  #avoid modifying global w within function\n    b = b_in\n    \n    for i in range(num_iters):\n\n        # Calculate the gradient and update the parameters\n        dj_dw, dj_db = gradient_function(x, y, w, b )  \n\n        # Update Parameters using w, b, alpha and gradient\n        w = w - alpha * dj_dw               \n        b = b - alpha * dj_db               \n\n        # Save cost J at each iteration\n        if i<100000:      # prevent resource exhaustion \n            cost =  cost_function(x, y, w, b)\n            J_history.append(cost)\n\n        # Print cost every at intervals 10 times or as many iterations if < 10\n        if i% math.ceil(num_iters/10) == 0:\n            w_history.append(w)\n            print(f\"Iteration {i:4}: Cost {float(J_history[-1]):8.2f}   \")\n        \n    return w, b, J_history, w_history #return w and J,w history for graphing",
      "metadata": {
        "trusted": true
      },
      "execution_count": 13,
      "outputs": []
    },
    {
      "cell_type": "code",
      "source": "# initialize fitting parameters. Recall that the shape of w is (n,)\ninitial_w = 0.\ninitial_b = 0.\n\n# some gradient descent settings\niterations = 1500\nalpha = 0.01\n\nw,b,_,_ = gradient_descent(x_train ,y_train, initial_w, initial_b, \n                     compute_cost, compute_gradient, alpha, iterations)\nprint(\"w,b found by gradient descent:\", w, b)",
      "metadata": {
        "trusted": true
      },
      "execution_count": 14,
      "outputs": [
        {
          "ename": "<class 'NameError'>",
          "evalue": "name 'x_train' is not defined",
          "traceback": [
            "\u001b[0;31m---------------------------------------------------------------------------\u001b[0m",
            "\u001b[0;31mNameError\u001b[0m                                 Traceback (most recent call last)",
            "Cell \u001b[0;32mIn[14], line 9\u001b[0m\n\u001b[1;32m      6\u001b[0m iterations \u001b[38;5;241m=\u001b[39m \u001b[38;5;241m1500\u001b[39m\n\u001b[1;32m      7\u001b[0m alpha \u001b[38;5;241m=\u001b[39m \u001b[38;5;241m0.01\u001b[39m\n\u001b[0;32m----> 9\u001b[0m w,b,_,_ \u001b[38;5;241m=\u001b[39m gradient_descent(\u001b[43mx_train\u001b[49m ,y_train, initial_w, initial_b, \n\u001b[1;32m     10\u001b[0m                      compute_cost, compute_gradient, alpha, iterations)\n\u001b[1;32m     11\u001b[0m \u001b[38;5;28mprint\u001b[39m(\u001b[38;5;124m\"\u001b[39m\u001b[38;5;124mw,b found by gradient descent:\u001b[39m\u001b[38;5;124m\"\u001b[39m, w, b)\n",
            "\u001b[0;31mNameError\u001b[0m: name 'x_train' is not defined"
          ],
          "output_type": "error"
        }
      ]
    },
    {
      "cell_type": "code",
      "source": "m = x_train.shape[0]\npredicted = np.zeros(m)\n\nfor i in range(m):\n    predicted[i] = w * x_train[i] + b",
      "metadata": {
        "trusted": true
      },
      "execution_count": 15,
      "outputs": [
        {
          "ename": "<class 'NameError'>",
          "evalue": "name 'x_train' is not defined",
          "traceback": [
            "\u001b[0;31m---------------------------------------------------------------------------\u001b[0m",
            "\u001b[0;31mNameError\u001b[0m                                 Traceback (most recent call last)",
            "Cell \u001b[0;32mIn[15], line 1\u001b[0m\n\u001b[0;32m----> 1\u001b[0m m \u001b[38;5;241m=\u001b[39m \u001b[43mx_train\u001b[49m\u001b[38;5;241m.\u001b[39mshape[\u001b[38;5;241m0\u001b[39m]\n\u001b[1;32m      2\u001b[0m predicted \u001b[38;5;241m=\u001b[39m np\u001b[38;5;241m.\u001b[39mzeros(m)\n\u001b[1;32m      4\u001b[0m \u001b[38;5;28;01mfor\u001b[39;00m i \u001b[38;5;129;01min\u001b[39;00m \u001b[38;5;28mrange\u001b[39m(m):\n",
            "\u001b[0;31mNameError\u001b[0m: name 'x_train' is not defined"
          ],
          "output_type": "error"
        }
      ]
    },
    {
      "cell_type": "code",
      "source": "# Plot the linear fit\nplt.plot(x_train, predicted, c = \"b\")\n\n# Create a scatter plot of the data. \nplt.scatter(x_train, y_train, marker='x', c='r') \n\n# Set the title\nplt.title(\"Profits vs. Population per city\")\n# Set the y-axis label\nplt.ylabel('Profit in $10,000')\n# Set the x-axis label\nplt.xlabel('Population of City in 10,000s')",
      "metadata": {
        "trusted": true
      },
      "execution_count": 16,
      "outputs": [
        {
          "ename": "<class 'NameError'>",
          "evalue": "name 'x_train' is not defined",
          "traceback": [
            "\u001b[0;31m---------------------------------------------------------------------------\u001b[0m",
            "\u001b[0;31mNameError\u001b[0m                                 Traceback (most recent call last)",
            "Cell \u001b[0;32mIn[16], line 2\u001b[0m\n\u001b[1;32m      1\u001b[0m \u001b[38;5;66;03m# Plot the linear fit\u001b[39;00m\n\u001b[0;32m----> 2\u001b[0m plt\u001b[38;5;241m.\u001b[39mplot(\u001b[43mx_train\u001b[49m, predicted, c \u001b[38;5;241m=\u001b[39m \u001b[38;5;124m\"\u001b[39m\u001b[38;5;124mb\u001b[39m\u001b[38;5;124m\"\u001b[39m)\n\u001b[1;32m      4\u001b[0m \u001b[38;5;66;03m# Create a scatter plot of the data. \u001b[39;00m\n\u001b[1;32m      5\u001b[0m plt\u001b[38;5;241m.\u001b[39mscatter(x_train, y_train, marker\u001b[38;5;241m=\u001b[39m\u001b[38;5;124m'\u001b[39m\u001b[38;5;124mx\u001b[39m\u001b[38;5;124m'\u001b[39m, c\u001b[38;5;241m=\u001b[39m\u001b[38;5;124m'\u001b[39m\u001b[38;5;124mr\u001b[39m\u001b[38;5;124m'\u001b[39m) \n",
            "\u001b[0;31mNameError\u001b[0m: name 'x_train' is not defined"
          ],
          "output_type": "error"
        }
      ]
    },
    {
      "cell_type": "code",
      "source": "predict1 = 3.5 * w + b\nprint('For population = 35,000, we predict a profit of $%.2f' % (predict1*10000))\n\npredict2 = 7.0 * w + b\nprint('For population = 70,000, we predict a profit of $%.2f' % (predict2*10000))",
      "metadata": {
        "trusted": true
      },
      "execution_count": 17,
      "outputs": [
        {
          "ename": "<class 'NameError'>",
          "evalue": "name 'w' is not defined",
          "traceback": [
            "\u001b[0;31m---------------------------------------------------------------------------\u001b[0m",
            "\u001b[0;31mNameError\u001b[0m                                 Traceback (most recent call last)",
            "Cell \u001b[0;32mIn[17], line 1\u001b[0m\n\u001b[0;32m----> 1\u001b[0m predict1 \u001b[38;5;241m=\u001b[39m \u001b[38;5;241m3.5\u001b[39m \u001b[38;5;241m*\u001b[39m \u001b[43mw\u001b[49m \u001b[38;5;241m+\u001b[39m b\n\u001b[1;32m      2\u001b[0m \u001b[38;5;28mprint\u001b[39m(\u001b[38;5;124m'\u001b[39m\u001b[38;5;124mFor population = 35,000, we predict a profit of $\u001b[39m\u001b[38;5;132;01m%.2f\u001b[39;00m\u001b[38;5;124m'\u001b[39m \u001b[38;5;241m%\u001b[39m (predict1\u001b[38;5;241m*\u001b[39m\u001b[38;5;241m10000\u001b[39m))\n\u001b[1;32m      4\u001b[0m predict2 \u001b[38;5;241m=\u001b[39m \u001b[38;5;241m7.0\u001b[39m \u001b[38;5;241m*\u001b[39m w \u001b[38;5;241m+\u001b[39m b\n",
            "\u001b[0;31mNameError\u001b[0m: name 'w' is not defined"
          ],
          "output_type": "error"
        }
      ]
    },
    {
      "cell_type": "code",
      "source": "",
      "metadata": {},
      "execution_count": null,
      "outputs": []
    }
  ]
}